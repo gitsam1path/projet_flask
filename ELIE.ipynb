{
 "cells": [
  {
   "cell_type": "code",
   "execution_count": null,
   "id": "7ac3fce4",
   "metadata": {},
   "outputs": [],
   "source": [
    "from flask import Flask, request, jsonify, render_template\n",
    "import requests\n",
    "from geopy.geocoders import Nominatim\n",
    "from geopy.exc import GeocoderTimedOut\n",
    "from geopy.distance import geodesic\n",
    "\n",
    "app = Flask(__name__, template_folder='C:\\Users\\kraha\\OneDrive\\Bureau\\appFLASK\\ELIE\\templates')\n",
    "\n",
    "\n",
    "@app.route('/')\n",
    "def index():\n",
    "    return render_template('index.html')\n",
    "\n",
    "@app.route('/closest_velib_stations', methods=['POST'])\n",
    "def closest_velib_stations():\n",
    "    try:\n",
    "        user_location = request.form.get('location')\n",
    "        if user_location:\n",
    "            geolocator = Nominatim(user_agent=\"geoapiExercises\")\n",
    "            location = geolocator.geocode(user_location)\n",
    "            if location:\n",
    "                user_coordinates = {'lat': location.latitude, 'lon': location.longitude}\n",
    "                closest_stations = get_closest_velib_stations(user_coordinates)\n",
    "                return jsonify({'closest_stations': closest_stations})\n",
    "            else:\n",
    "                return jsonify({'error': 'Location not found'}), 400\n",
    "        else:\n",
    "            return jsonify({'error': 'Invalid user location data'}), 400\n",
    "    except GeocoderTimedOut:\n",
    "        return jsonify({'error': 'Geocoding service timed out'}), 500\n",
    "\n",
    "if __name__ == '__main__':\n",
    "    app.run(debug=True, use_reloader=False)\n"
   ]
  }
 ],
 "metadata": {
  "kernelspec": {
   "display_name": "Python 3 (ipykernel)",
   "language": "python",
   "name": "python3"
  },
  "language_info": {
   "codemirror_mode": {
    "name": "ipython",
    "version": 3
   },
   "file_extension": ".py",
   "mimetype": "text/x-python",
   "name": "python",
   "nbconvert_exporter": "python",
   "pygments_lexer": "ipython3",
   "version": "3.9.7"
  }
 },
 "nbformat": 4,
 "nbformat_minor": 5
}
